{
 "cells": [
  {
   "cell_type": "code",
   "execution_count": 1,
   "id": "f28cef22",
   "metadata": {},
   "outputs": [],
   "source": [
    "from IPython.display import clear_output\n",
    "\n",
    "def displayboard(board):\n",
    "    clear_output()\n",
    "    print('   |   |')\n",
    "    print(' '+board[7]+' | '+board[8]+' | '+board[9])\n",
    "    print('   |   |')\n",
    "    print('-----------')\n",
    "    print('   |   |')\n",
    "    print(' '+board[4]+' | '+board[5]+' | '+board[6])\n",
    "    print('   |   |')\n",
    "    print('-----------')\n",
    "    print('   |   |')\n",
    "    print(' '+board[1]+' | '+board[2]+' | '+board[3])\n",
    "    print('   |   |')"
   ]
  },
  {
   "cell_type": "code",
   "execution_count": 2,
   "id": "7dcd7625",
   "metadata": {},
   "outputs": [
    {
     "data": {
      "text/plain": [
       "[' ', ' ', ' ', ' ', ' ', ' ', ' ', ' ', ' ', ' ']"
      ]
     },
     "metadata": {},
     "output_type": "display_data"
    }
   ],
   "source": [
    "testboard=[' ']*10\n",
    "display(testboard)"
   ]
  },
  {
   "cell_type": "code",
   "execution_count": 3,
   "id": "8f7ced82",
   "metadata": {},
   "outputs": [],
   "source": [
    "def playerinput():\n",
    "    marker=''\n",
    "    while not (marker=='X' or marker=='O'):\n",
    "        marker=input(\"Choose X or O: \").upper()\n",
    "    \n",
    "    if marker=='X':\n",
    "        return('X','O')\n",
    "    else:\n",
    "        return('O','X')"
   ]
  },
  {
   "cell_type": "code",
   "execution_count": 4,
   "id": "6183a624",
   "metadata": {},
   "outputs": [
    {
     "name": "stdout",
     "output_type": "stream",
     "text": [
      "Choose X or O: X\n"
     ]
    },
    {
     "data": {
      "text/plain": [
       "('X', 'O')"
      ]
     },
     "execution_count": 4,
     "metadata": {},
     "output_type": "execute_result"
    }
   ],
   "source": [
    "playerinput()"
   ]
  },
  {
   "cell_type": "code",
   "execution_count": 5,
   "id": "8d76a4cd",
   "metadata": {},
   "outputs": [],
   "source": [
    "def placemarker(board,marker,position):\n",
    "    board[position]=marker"
   ]
  },
  {
   "cell_type": "code",
   "execution_count": 6,
   "id": "393ff091",
   "metadata": {},
   "outputs": [],
   "source": [
    "def wincheck(board,mark):\n",
    "    return((board[7]==mark and board[8]== mark and board[9]==mark) or\n",
    "          (board[4]==mark and board[5]== mark and board[6]==mark) or\n",
    "          (board[1]==mark and board[2]== mark and board[3]==mark) or\n",
    "          (board[7]==mark and board[4]== mark and board[1]==mark) or\n",
    "          (board[8]==mark and board[5]== mark and board[2]==mark) or\n",
    "          (board[9]==mark and board[6]== mark and board[3]==mark) or\n",
    "           (board[7]==mark and board[5]== mark and board[3]==mark) or\n",
    "           (board[9]==mark and board[5]== mark and board[1]==mark))"
   ]
  },
  {
   "cell_type": "code",
   "execution_count": 7,
   "id": "622d1d14",
   "metadata": {},
   "outputs": [],
   "source": [
    "import random\n",
    "def choosefirst():\n",
    "    flip= random.randint(0,1)\n",
    "    if flip == 0:\n",
    "        return 'Player 1'\n",
    "    else:\n",
    "        return 'Player 2'"
   ]
  },
  {
   "cell_type": "code",
   "execution_count": 8,
   "id": "89b19f3a",
   "metadata": {},
   "outputs": [],
   "source": [
    "def spacecheck(board,position):\n",
    "    return board[position]==' '"
   ]
  },
  {
   "cell_type": "code",
   "execution_count": 9,
   "id": "71f67483",
   "metadata": {},
   "outputs": [],
   "source": [
    "def fullboardcheck(board):\n",
    "    for i in range(1,10):\n",
    "        if spacecheck(board,i):\n",
    "            return False\n",
    "    return True"
   ]
  },
  {
   "cell_type": "code",
   "execution_count": 10,
   "id": "c6583a39",
   "metadata": {},
   "outputs": [],
   "source": [
    "def playerchoice(board):\n",
    "    position=0\n",
    "    while position not in [1,2,3,4,5,6,7,8,9] or not spacecheck(board,position):\n",
    "    \tposition=int(input('Choose position 1-9'))\n",
    "    return position"
   ]
  },
  {
   "cell_type": "code",
   "execution_count": 11,
   "id": "77e6739a",
   "metadata": {},
   "outputs": [],
   "source": [
    "def replay():\n",
    "    choice= input(\"Play again?Enter Yes or No\")\n",
    "    return choice ==\"Yes\""
   ]
  },
  {
   "cell_type": "code",
   "execution_count": null,
   "id": "6d2c02be",
   "metadata": {},
   "outputs": [
    {
     "name": "stdout",
     "output_type": "stream",
     "text": [
      "   |   |\n",
      " O | O | X\n",
      "   |   |\n",
      "-----------\n",
      "   |   |\n",
      " X | O | O\n",
      "   |   |\n",
      "-----------\n",
      "   |   |\n",
      " O | X | X\n",
      "   |   |\n",
      "Choose position 1-97\n"
     ]
    }
   ],
   "source": [
    "print(\"WELCOME TO TIC TAC TOE\")\n",
    "while True:\n",
    "    board=[' ']*10\n",
    "    player1,player2=playerinput()\n",
    "    turn = choosefirst()\n",
    "    print(turn+ ' will go first')\n",
    "    playgame=input(\"Ready to play? Y or N\")\n",
    "    if playgame=='Y':\n",
    "        gameon=True\n",
    "    else:\n",
    "        gameon =False\n",
    "    while gameon:\n",
    "        if turn == 'Player 1':\n",
    "            displayboard(board)\n",
    "            position=playerchoice(board)\n",
    "            placemarker(board,player1,position)\n",
    "            if wincheck(board,player1):\n",
    "                displayboard(board)\n",
    "                print(\"Player 1 WON\")\n",
    "                gameon=False\n",
    "            else:\n",
    "                if fullboardcheck(board):\n",
    "                    displayboard(board)\n",
    "                    print(\"TIE GAME\")\n",
    "                else:\n",
    "                    turn = 'Player 2'\n",
    "        else:\n",
    "            displayboard(board)\n",
    "            position=playerchoice(board)\n",
    "            placemarker(board,player2,position)\n",
    "            if wincheck(board,player2):\n",
    "                displayboard(board)\n",
    "                print(\"Player 2 WON\")\n",
    "                gameon=False\n",
    "            else:\n",
    "                if fullboardcheck(board):\n",
    "                    displayboard(board)\n",
    "                    print(\"TIE GAME\")\n",
    "                else:\n",
    "                    turn = 'Player 1'\n",
    "    if not replay():\n",
    "        break"
   ]
  },
  {
   "cell_type": "code",
   "execution_count": null,
   "id": "0ed79da4",
   "metadata": {},
   "outputs": [],
   "source": []
  }
 ],
 "metadata": {
  "kernelspec": {
   "display_name": "Python 3 (ipykernel)",
   "language": "python",
   "name": "python3"
  },
  "language_info": {
   "codemirror_mode": {
    "name": "ipython",
    "version": 3
   },
   "file_extension": ".py",
   "mimetype": "text/x-python",
   "name": "python",
   "nbconvert_exporter": "python",
   "pygments_lexer": "ipython3",
   "version": "3.9.12"
  }
 },
 "nbformat": 4,
 "nbformat_minor": 5
}
